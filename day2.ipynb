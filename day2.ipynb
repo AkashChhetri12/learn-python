{
 "cells": [
  {
   "cell_type": "code",
   "execution_count": 9,
   "metadata": {},
   "outputs": [
    {
     "name": "stdout",
     "output_type": "stream",
     "text": [
      "single 23\n",
      "multi-line 34\n"
     ]
    }
   ],
   "source": [
    "# single-line\n",
    "import random as r; x = r.randint(1, 100); print(\"single\", x)\n",
    "\n",
    "# multi-line\n",
    "import random as r\n",
    "x = r.randint(1, 100)\n",
    "print(\"multi-line\", x)"
   ]
  },
  {
   "cell_type": "code",
   "execution_count": 14,
   "metadata": {},
   "outputs": [
    {
     "name": "stdout",
     "output_type": "stream",
     "text": [
      "1848393886128\n",
      "1848393886160\n"
     ]
    }
   ],
   "source": [
    "# Python variables\n",
    "# reserved memory location to store values. \n",
    "\n",
    "# Memory: x = 5 \n",
    "x = 5\n",
    "print(id(x))\n",
    "x = 6\n",
    "print(id(x))"
   ]
  },
  {
   "cell_type": "code",
   "execution_count": 15,
   "metadata": {},
   "outputs": [
    {
     "name": "stdout",
     "output_type": "stream",
     "text": [
      "5\n",
      "hello\n",
      "5.01\n"
     ]
    }
   ],
   "source": [
    "# varibales\n",
    "x = 5\n",
    "print(x)\n",
    "x = \"hello\"\n",
    "print(x)\n",
    "x = 5.01\n",
    "print(x)"
   ]
  },
  {
   "cell_type": "code",
   "execution_count": 16,
   "metadata": {},
   "outputs": [
    {
     "name": "stdout",
     "output_type": "stream",
     "text": [
      "1848393886128\n"
     ]
    },
    {
     "ename": "NameError",
     "evalue": "name 'x' is not defined",
     "output_type": "error",
     "traceback": [
      "\u001b[1;31m---------------------------------------------------------------------------\u001b[0m",
      "\u001b[1;31mNameError\u001b[0m                                 Traceback (most recent call last)",
      "\u001b[1;32md:\\PythonTut\\demo.ipynb Cell 4\u001b[0m line \u001b[0;36m4\n\u001b[0;32m      <a href='vscode-notebook-cell:/d%3A/PythonTut/demo.ipynb#W5sZmlsZQ%3D%3D?line=1'>2</a>\u001b[0m \u001b[39mprint\u001b[39m(\u001b[39mid\u001b[39m(x))\n\u001b[0;32m      <a href='vscode-notebook-cell:/d%3A/PythonTut/demo.ipynb#W5sZmlsZQ%3D%3D?line=2'>3</a>\u001b[0m \u001b[39mdel\u001b[39;00m x\n\u001b[1;32m----> <a href='vscode-notebook-cell:/d%3A/PythonTut/demo.ipynb#W5sZmlsZQ%3D%3D?line=3'>4</a>\u001b[0m \u001b[39mprint\u001b[39m(\u001b[39mid\u001b[39m(x))\n",
      "\u001b[1;31mNameError\u001b[0m: name 'x' is not defined"
     ]
    }
   ],
   "source": [
    "# free memory\n",
    "x = 5\n",
    "print(id(x))\n",
    "del x\n",
    "print(id(x))"
   ]
  },
  {
   "cell_type": "code",
   "execution_count": 17,
   "metadata": {},
   "outputs": [
    {
     "name": "stdout",
     "output_type": "stream",
     "text": [
      "<class 'int'>\n",
      "<class 'str'>\n",
      "<class 'float'>\n"
     ]
    }
   ],
   "source": [
    "# type of variables\n",
    "x = 5\n",
    "print(type(x))\n",
    "x = \"hello\"\n",
    "print(type(x))\n",
    "x = 5.01\n",
    "print(type(x))\n"
   ]
  },
  {
   "cell_type": "code",
   "execution_count": 20,
   "metadata": {},
   "outputs": [
    {
     "name": "stdout",
     "output_type": "stream",
     "text": [
      "5\n",
      "3\n",
      "5\n"
     ]
    }
   ],
   "source": [
    "# convert variables\n",
    "x = 5\n",
    "print(str(x))\n",
    "x = \"3\"\n",
    "print(int(x))\n",
    "x = 5.01\n",
    "print(int(x))"
   ]
  },
  {
   "cell_type": "code",
   "execution_count": 21,
   "metadata": {},
   "outputs": [
    {
     "name": "stdout",
     "output_type": "stream",
     "text": [
      "6\n"
     ]
    }
   ],
   "source": [
    "# python variables are case sensitive\n",
    "\n",
    "x = 6 \n",
    "X = 10\n",
    "print(x)"
   ]
  },
  {
   "cell_type": "code",
   "execution_count": 29,
   "metadata": {},
   "outputs": [
    {
     "name": "stdout",
     "output_type": "stream",
     "text": [
      "1848393886128 1848393886128 1848393886128\n",
      "1848393886128 1848393886288 1848393886128\n",
      "1848393886288 1848393886288 1848393886288\n",
      "1848393886288 1848393886288\n"
     ]
    }
   ],
   "source": [
    "# multiple variables\n",
    "x = y = z = 5\n",
    "print(id(x), id(y), id(z))\n",
    "y = 10\n",
    "print(id(x), id(y), id(z))\n",
    "\n",
    "x = 10\n",
    "y = 10\n",
    "z = 10\n",
    "print(id(x), id(y), id(z))\n",
    "\n",
    "del x\n",
    "print(id(y), id(z))\n"
   ]
  },
  {
   "cell_type": "code",
   "execution_count": 30,
   "metadata": {},
   "outputs": [
    {
     "name": "stdout",
     "output_type": "stream",
     "text": [
      "1848393886288 1848393886288 1848393886288\n"
     ]
    }
   ],
   "source": [
    "x = 10\n",
    "y = 10\n",
    "z = 10\n",
    "print(id(x), id(y), id(z))"
   ]
  },
  {
   "cell_type": "code",
   "execution_count": 32,
   "metadata": {},
   "outputs": [
    {
     "name": "stdout",
     "output_type": "stream",
     "text": [
      "10 20 30\n"
     ]
    }
   ],
   "source": [
    "# packing unpacking variables\n",
    "x,y,z = 10, 20, 30\n",
    "print(x, y, z)\n"
   ]
  },
  {
   "cell_type": "code",
   "execution_count": 33,
   "metadata": {},
   "outputs": [
    {
     "ename": "ValueError",
     "evalue": "not enough values to unpack (expected 3, got 2)",
     "output_type": "error",
     "traceback": [
      "\u001b[1;31m---------------------------------------------------------------------------\u001b[0m",
      "\u001b[1;31mValueError\u001b[0m                                Traceback (most recent call last)",
      "\u001b[1;32md:\\PythonTut\\demo.ipynb Cell 11\u001b[0m line \u001b[0;36m1\n\u001b[1;32m----> <a href='vscode-notebook-cell:/d%3A/PythonTut/demo.ipynb#X15sZmlsZQ%3D%3D?line=0'>1</a>\u001b[0m x, y, z \u001b[39m=\u001b[39m \u001b[39m10\u001b[39m, \u001b[39m20\u001b[39m\n",
      "\u001b[1;31mValueError\u001b[0m: not enough values to unpack (expected 3, got 2)"
     ]
    }
   ],
   "source": [
    "x, y, z = 10, 20"
   ]
  },
  {
   "cell_type": "code",
   "execution_count": 40,
   "metadata": {},
   "outputs": [
    {
     "name": "stdout",
     "output_type": "stream",
     "text": [
      "40 40\n"
     ]
    }
   ],
   "source": [
    "x, y, _, _ = 10, 20, 30, 40\n",
    "print(_, _)\n"
   ]
  },
  {
   "cell_type": "code",
   "execution_count": 42,
   "metadata": {},
   "outputs": [],
   "source": [
    "# Casing\n",
    "# 1. Camel : firstName \n",
    "# 2. Pascal : FirstName\n",
    "# 3. Snake : first_name"
   ]
  },
  {
   "cell_type": "code",
   "execution_count": 43,
   "metadata": {},
   "outputs": [],
   "source": [
    "count = 10 # camel and snake but snake is best answer\n",
    "firstName = \"John\" # camel\n",
    "LastName = \"Don\" # pascal\n",
    "Age = 20 # Pasacal\n",
    "my_salary = 1000 # snake\n",
    "_count = 10    # snake\n"
   ]
  },
  {
   "cell_type": "code",
   "execution_count": 44,
   "metadata": {},
   "outputs": [
    {
     "name": "stdout",
     "output_type": "stream",
     "text": [
      "12000\n"
     ]
    }
   ],
   "source": [
    "my_salary = 1000\n",
    "yearly_salary = 12 * my_salary\n",
    "print(yearly_salary)"
   ]
  },
  {
   "cell_type": "code",
   "execution_count": 47,
   "metadata": {},
   "outputs": [
    {
     "name": "stdout",
     "output_type": "stream",
     "text": [
      "10\n",
      "30\n",
      "30\n"
     ]
    }
   ],
   "source": [
    "# Local variables\n",
    "def subs(a,b):\n",
    "    c = a - b\n",
    "    return c\n",
    "\n",
    "# Global variables\n",
    "a, b = 10, 20\n",
    "def add():\n",
    "    c = a + b\n",
    "    return c\n",
    "\n",
    "a, b, c = 10, 20, 10\n",
    "def add():\n",
    "    global c\n",
    "    print(c)\n",
    "    c = a + b\n",
    "    print(c)\n",
    "    return c\n",
    "add()\n",
    "print(c)"
   ]
  },
  {
   "cell_type": "code",
   "execution_count": 49,
   "metadata": {},
   "outputs": [
    {
     "name": "stdout",
     "output_type": "stream",
     "text": [
      "9.8\n",
      "10\n"
     ]
    }
   ],
   "source": [
    "# Constants - fixed value - naming convention (use all letters in caps + snake case)\n",
    "PI_VALUE = 3.14\n",
    "GRAVITY = 9.8\n",
    "print(GRAVITY)\n",
    "\n",
    "GRAVITY = 10 # works but not recommended\n",
    "print(GRAVITY)"
   ]
  },
  {
   "cell_type": "code",
   "execution_count": 50,
   "metadata": {},
   "outputs": [
    {
     "name": "stdout",
     "output_type": "stream",
     "text": [
      "True\n",
      "True\n",
      "True\n",
      "True\n",
      "True\n",
      "True\n",
      "False\n",
      "True\n",
      "False\n"
     ]
    }
   ],
   "source": [
    "# is operator - check if two variables are pointing to the same memory location\n",
    "x = y = z = 5\n",
    "print(x is y)\n",
    "print(x is z)\n",
    "print(y is z)\n",
    "\n",
    "x = 10\n",
    "y = 10\n",
    "z = 10\n",
    "print(x is y)\n",
    "print(x is z)\n",
    "print(y is z)\n",
    "\n",
    "x = 10\n",
    "y = 20\n",
    "z = 10\n",
    "print(x is y)\n",
    "print(x is z)\n",
    "print(y is z)"
   ]
  },
  {
   "cell_type": "code",
   "execution_count": 51,
   "metadata": {},
   "outputs": [],
   "source": [
    "# Data types\n",
    "\n",
    "# 1. Numeric\n",
    "    # int\n",
    "    # float\n",
    "    # complex\n",
    "\n",
    "# 2. String\n",
    "\n",
    "# 3. Sequence\n",
    "    # List\n",
    "    # Tuple\n",
    "    # Range\n",
    "\n",
    "# 4. Binary\n",
    "    # Bytes\n",
    "    # Bytearray\n",
    "    # Memoryview\n",
    "\n",
    "# 5. Dictionary\n",
    "\n",
    "# 6. Boolean\n",
    "\n",
    "# 7. Sets\n",
    "\n",
    "# 8. None"
   ]
  },
  {
   "cell_type": "code",
   "execution_count": null,
   "metadata": {},
   "outputs": [],
   "source": [
    "# 1. Numeric\n",
    "# int\n",
    "x = 10\n",
    "x = -10\n",
    "x = 0\n",
    "\n",
    "\n",
    "# float\n",
    "x = 10.5\n",
    "x = -10.5\n",
    "x = 0.0\n",
    "\n",
    "# complex - real + imaginary(j)\n",
    "x = 10 + 5j\n",
    "x = -10 + 5j\n",
    "\n",
    "\n",
    "# 2. String\n",
    "x = \"hello\" # double quotes when you want to use single quotes inside your string\n",
    "x = 'hello' # single quotes when you want to use double quotes inside your string\n",
    "x = \"\"\"hello\"\"\" # multi-line string, allowed single quotes\n",
    "x = '''hello''' # multi-line string, allowed double quotes\n"
   ]
  }
 ],
 "metadata": {
  "kernelspec": {
   "display_name": "Python 3",
   "language": "python",
   "name": "python3"
  },
  "language_info": {
   "codemirror_mode": {
    "name": "ipython",
    "version": 3
   },
   "file_extension": ".py",
   "mimetype": "text/x-python",
   "name": "python",
   "nbconvert_exporter": "python",
   "pygments_lexer": "ipython3",
   "version": "3.9.13"
  }
 },
 "nbformat": 4,
 "nbformat_minor": 2
}
